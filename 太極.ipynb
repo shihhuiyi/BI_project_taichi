{
 "cells": [
  {
   "cell_type": "code",
   "execution_count": 13,
   "id": "continuing-reduction",
   "metadata": {},
   "outputs": [],
   "source": [
    "import pandas as pd\n",
    "import matplotlib.pyplot as plt\n",
    "import numpy as np\n",
    "import tensorflow as tf\n",
    "from sklearn.model_selection import train_test_split\n",
    "from keras.models import Sequential\n",
    "from keras.layers import Dense\n",
    "from keras.layers import Dropout\n",
    "from keras.utils import to_categorical\n",
    "import matplotlib"
   ]
  },
  {
   "cell_type": "code",
   "execution_count": 33,
   "id": "stretch-morgan",
   "metadata": {},
   "outputs": [],
   "source": [
    "df = pd.read_csv(\"太極.csv\",header=None)\n",
    "df.columns = [\"x1\", 'x2','label','1','2']\n",
    "df[\"x1^2\"] = df[\"x1\"]**2\n",
    "df[\"x2^2\"] = df[\"x2\"]**2"
   ]
  },
  {
   "cell_type": "code",
   "execution_count": 34,
   "id": "saved-present",
   "metadata": {},
   "outputs": [
    {
     "data": {
      "text/plain": [
       "<matplotlib.collections.PathCollection at 0x7ffaf7666c50>"
      ]
     },
     "execution_count": 34,
     "metadata": {},
     "output_type": "execute_result"
    },
    {
     "data": {
      "image/png": "[encoded data removed]",
      "text/plain": [
       "<Figure size 288x288 with 1 Axes>"
      ]
     },
     "metadata": {
      "needs_background": "light"
     },
     "output_type": "display_data"
    }
   ],
   "source": [
    "colors = ['darkgrey','white','black']\n",
    "fig = plt.figure(figsize=(4,4))\n",
    "plt.scatter(df['x1'],df['x2'],c = df['label'],cmap=matplotlib.colors.ListedColormap(colors))"
   ]
  },
  {
   "cell_type": "code",
   "execution_count": 35,
   "id": "protecting-halifax",
   "metadata": {},
   "outputs": [],
   "source": [
    "data =df[[\"x1\",\"x2\",\"x1^2\",\"x2^2\",\"label\"]].values"
   ]
  },
  {
   "cell_type": "code",
   "execution_count": 36,
   "id": "computational-dress",
   "metadata": {},
   "outputs": [],
   "source": [
    "train_data, test_data = train_test_split(data, random_state=777, train_size=0.8)\n",
    "#train_data,test_data"
   ]
  },
  {
   "cell_type": "code",
   "execution_count": 37,
   "id": "hungarian-queensland",
   "metadata": {},
   "outputs": [],
   "source": [
    "x_train, x_test = train_data[:,[0,1,2,3]].astype(np.float32), test_data[:,[0,1,2,3]].astype(np.float32)\n",
    "y_train, y_test = train_data[:,[4]].astype(np.float32), test_data[:,[4]].astype(np.float32)\n",
    "#x_train, x_test, y_train, y_test"
   ]
  },
  {
   "cell_type": "code",
   "execution_count": 38,
   "id": "subsequent-hawaiian",
   "metadata": {},
   "outputs": [],
   "source": [
    "Y_train = to_categorical(y_train)\n",
    "Y_test = to_categorical(y_test)"
   ]
  },
  {
   "cell_type": "code",
   "execution_count": 39,
   "id": "respiratory-oracle",
   "metadata": {},
   "outputs": [
    {
     "name": "stdout",
     "output_type": "stream",
     "text": [
      "Model: \"sequential_3\"\n",
      "_________________________________________________________________\n",
      "Layer (type)                 Output Shape              Param #   \n",
      "=================================================================\n",
      "dense_11 (Dense)             (None, 4)                 20        \n",
      "_________________________________________________________________\n",
      "dense_12 (Dense)             (None, 16)                80        \n",
      "_________________________________________________________________\n",
      "dense_13 (Dense)             (None, 16)                272       \n",
      "_________________________________________________________________\n",
      "dense_14 (Dense)             (None, 16)                272       \n",
      "_________________________________________________________________\n",
      "dense_15 (Dense)             (None, 3)                 51        \n",
      "=================================================================\n",
      "Total params: 695\n",
      "Trainable params: 695\n",
      "Non-trainable params: 0\n",
      "_________________________________________________________________\n"
     ]
    }
   ],
   "source": [
    "model = Sequential()\n",
    "\n",
    "model.add(Dense(4, input_shape=(4,))) #, activation=\"relu\"\n",
    "model.add(Dense(16, activation=\"relu\"))\n",
    "#model.add(Dropout(0.3))\n",
    "model.add(Dense(16, activation=\"relu\")) #sigmoid\n",
    "model.add(Dense(16, activation=\"relu\"))\n",
    "#model.add(Dropout(0.3))\n",
    "model.add(Dense(3, activation=\"softmax\"))\n",
    "\n",
    "model.compile(loss=\"categorical_crossentropy\", optimizer=\"adam\",metrics=[\"accuracy\"])\n",
    "model.summary()"
   ]
  },
  {
   "cell_type": "code",
   "execution_count": 42,
   "id": "compact-cooler",
   "metadata": {},
   "outputs": [
    {
     "name": "stdout",
     "output_type": "stream",
     "text": [
      "Epoch 1/200\n",
      "32000/32000 [==============================] - 0s 13us/step - loss: 0.1532 - accuracy: 0.9354\n",
      "Epoch 2/200\n",
      "32000/32000 [==============================] - 0s 9us/step - loss: 0.1607 - accuracy: 0.9329\n",
      "Epoch 3/200\n",
      "32000/32000 [==============================] - 0s 9us/step - loss: 0.2010 - accuracy: 0.9217\n",
      "Epoch 4/200\n",
      "32000/32000 [==============================] - 0s 7us/step - loss: 0.1455 - accuracy: 0.9397\n",
      "Epoch 5/200\n",
      "32000/32000 [==============================] - 0s 6us/step - loss: 0.1796 - accuracy: 0.9283\n",
      "Epoch 6/200\n",
      "32000/32000 [==============================] - 0s 6us/step - loss: 0.1637 - accuracy: 0.9329\n",
      "Epoch 7/200\n",
      "32000/32000 [==============================] - 0s 6us/step - loss: 0.1644 - accuracy: 0.9332\n",
      "Epoch 8/200\n",
      "32000/32000 [==============================] - 0s 7us/step - loss: 0.1419 - accuracy: 0.9405\n",
      "Epoch 9/200\n",
      "32000/32000 [==============================] - 0s 8us/step - loss: 0.1684 - accuracy: 0.9333\n",
      "Epoch 10/200\n",
      "32000/32000 [==============================] - 0s 8us/step - loss: 0.1354 - accuracy: 0.9446\n",
      "Epoch 11/200\n",
      "32000/32000 [==============================] - 0s 6us/step - loss: 0.1591 - accuracy: 0.9367\n",
      "Epoch 12/200\n",
      "32000/32000 [==============================] - 0s 7us/step - loss: 0.1576 - accuracy: 0.9377\n",
      "Epoch 13/200\n",
      "32000/32000 [==============================] - 0s 6us/step - loss: 0.1392 - accuracy: 0.9417\n",
      "Epoch 14/200\n",
      "32000/32000 [==============================] - 0s 6us/step - loss: 0.1572 - accuracy: 0.9359\n",
      "Epoch 15/200\n",
      "32000/32000 [==============================] - 0s 7us/step - loss: 0.1512 - accuracy: 0.9379\n",
      "Epoch 16/200\n",
      "32000/32000 [==============================] - 0s 6us/step - loss: 0.1930 - accuracy: 0.9246\n",
      "Epoch 17/200\n",
      "32000/32000 [==============================] - 0s 7us/step - loss: 0.1457 - accuracy: 0.9392\n",
      "Epoch 18/200\n",
      "32000/32000 [==============================] - 0s 7us/step - loss: 0.1602 - accuracy: 0.9364\n",
      "Epoch 19/200\n",
      "32000/32000 [==============================] - 0s 7us/step - loss: 0.1645 - accuracy: 0.9316\n",
      "Epoch 20/200\n",
      "32000/32000 [==============================] - 0s 7us/step - loss: 0.1470 - accuracy: 0.9398\n",
      "Epoch 21/200\n",
      "32000/32000 [==============================] - 0s 7us/step - loss: 0.1236 - accuracy: 0.9478\n",
      "Epoch 22/200\n",
      "32000/32000 [==============================] - 0s 7us/step - loss: 0.1363 - accuracy: 0.9446\n",
      "Epoch 23/200\n",
      "32000/32000 [==============================] - 0s 7us/step - loss: 0.1522 - accuracy: 0.9368\n",
      "Epoch 24/200\n",
      "32000/32000 [==============================] - 0s 7us/step - loss: 0.1489 - accuracy: 0.9388\n",
      "Epoch 25/200\n",
      "32000/32000 [==============================] - 0s 7us/step - loss: 0.1596 - accuracy: 0.9355\n",
      "Epoch 26/200\n",
      "32000/32000 [==============================] - 0s 7us/step - loss: 0.1741 - accuracy: 0.9314\n",
      "Epoch 27/200\n",
      "32000/32000 [==============================] - 0s 9us/step - loss: 0.1506 - accuracy: 0.9366\n",
      "Epoch 28/200\n",
      "32000/32000 [==============================] - 0s 9us/step - loss: 0.1530 - accuracy: 0.9373\n",
      "Epoch 29/200\n",
      "32000/32000 [==============================] - 0s 9us/step - loss: 0.1581 - accuracy: 0.9351\n",
      "Epoch 30/200\n",
      "32000/32000 [==============================] - 0s 11us/step - loss: 0.1301 - accuracy: 0.9452\n",
      "Epoch 31/200\n",
      "32000/32000 [==============================] - 0s 7us/step - loss: 0.1425 - accuracy: 0.9393\n",
      "Epoch 32/200\n",
      "32000/32000 [==============================] - 0s 9us/step - loss: 0.1396 - accuracy: 0.9400\n",
      "Epoch 33/200\n",
      "32000/32000 [==============================] - 0s 10us/step - loss: 0.1553 - accuracy: 0.9366\n",
      "Epoch 34/200\n",
      "32000/32000 [==============================] - 0s 7us/step - loss: 0.1302 - accuracy: 0.9457\n",
      "Epoch 35/200\n",
      "32000/32000 [==============================] - 0s 7us/step - loss: 0.1384 - accuracy: 0.9415\n",
      "Epoch 36/200\n",
      "32000/32000 [==============================] - 0s 7us/step - loss: 0.1693 - accuracy: 0.9309\n",
      "Epoch 37/200\n",
      "32000/32000 [==============================] - 0s 7us/step - loss: 0.1500 - accuracy: 0.9375\n",
      "Epoch 38/200\n",
      "32000/32000 [==============================] - 0s 7us/step - loss: 0.1562 - accuracy: 0.9358\n",
      "Epoch 39/200\n",
      "32000/32000 [==============================] - 0s 7us/step - loss: 0.1421 - accuracy: 0.9411\n",
      "Epoch 40/200\n",
      "32000/32000 [==============================] - 0s 8us/step - loss: 0.1436 - accuracy: 0.9403\n",
      "Epoch 41/200\n",
      "32000/32000 [==============================] - 0s 9us/step - loss: 0.1651 - accuracy: 0.9318\n",
      "Epoch 42/200\n",
      "32000/32000 [==============================] - 0s 9us/step - loss: 0.1266 - accuracy: 0.9481\n",
      "Epoch 43/200\n",
      "32000/32000 [==============================] - 0s 14us/step - loss: 0.1569 - accuracy: 0.9372\n",
      "Epoch 44/200\n",
      "32000/32000 [==============================] - 0s 10us/step - loss: 0.1210 - accuracy: 0.9486\n",
      "Epoch 45/200\n",
      "32000/32000 [==============================] - 1s 16us/step - loss: 0.1388 - accuracy: 0.9411\n",
      "Epoch 46/200\n",
      "32000/32000 [==============================] - 1s 18us/step - loss: 0.1854 - accuracy: 0.9292\n",
      "Epoch 47/200\n",
      "32000/32000 [==============================] - 0s 11us/step - loss: 0.1373 - accuracy: 0.9420\n",
      "Epoch 48/200\n",
      "32000/32000 [==============================] - 0s 13us/step - loss: 0.1351 - accuracy: 0.9431\n",
      "Epoch 49/200\n",
      "32000/32000 [==============================] - 0s 11us/step - loss: 0.1364 - accuracy: 0.9443\n",
      "Epoch 50/200\n",
      "32000/32000 [==============================] - 0s 8us/step - loss: 0.1451 - accuracy: 0.9411\n",
      "Epoch 51/200\n",
      "32000/32000 [==============================] - 0s 8us/step - loss: 0.1136 - accuracy: 0.9517\n",
      "Epoch 52/200\n",
      "32000/32000 [==============================] - 0s 11us/step - loss: 0.1575 - accuracy: 0.9367\n",
      "Epoch 53/200\n",
      "32000/32000 [==============================] - 0s 10us/step - loss: 0.1455 - accuracy: 0.9401\n",
      "Epoch 54/200\n",
      "32000/32000 [==============================] - 0s 6us/step - loss: 0.1444 - accuracy: 0.9404\n",
      "Epoch 55/200\n",
      "32000/32000 [==============================] - 0s 6us/step - loss: 0.1222 - accuracy: 0.9477\n",
      "Epoch 56/200\n",
      "32000/32000 [==============================] - 0s 7us/step - loss: 0.1518 - accuracy: 0.9391\n",
      "Epoch 57/200\n",
      "32000/32000 [==============================] - 0s 7us/step - loss: 0.1501 - accuracy: 0.9380\n",
      "Epoch 58/200\n",
      "32000/32000 [==============================] - 0s 7us/step - loss: 0.1219 - accuracy: 0.9488\n",
      "Epoch 59/200\n",
      "32000/32000 [==============================] - 0s 6us/step - loss: 0.1242 - accuracy: 0.9491\n",
      "Epoch 60/200\n",
      "32000/32000 [==============================] - 0s 7us/step - loss: 0.1320 - accuracy: 0.9442\n",
      "Epoch 61/200\n",
      "32000/32000 [==============================] - 0s 8us/step - loss: 0.1362 - accuracy: 0.9428\n",
      "Epoch 62/200\n",
      "32000/32000 [==============================] - 0s 7us/step - loss: 0.1417 - accuracy: 0.9410\n",
      "Epoch 63/200\n",
      "32000/32000 [==============================] - 0s 6us/step - loss: 0.1503 - accuracy: 0.9396\n",
      "Epoch 64/200\n",
      "32000/32000 [==============================] - 0s 7us/step - loss: 0.1301 - accuracy: 0.9456\n",
      "Epoch 65/200\n",
      "32000/32000 [==============================] - 0s 8us/step - loss: 0.1236 - accuracy: 0.9472\n",
      "Epoch 66/200\n",
      "32000/32000 [==============================] - 0s 7us/step - loss: 0.1139 - accuracy: 0.9513\n",
      "Epoch 67/200\n",
      "32000/32000 [==============================] - 0s 7us/step - loss: 0.1147 - accuracy: 0.9514\n",
      "Epoch 68/200\n",
      "32000/32000 [==============================] - 0s 6us/step - loss: 0.1284 - accuracy: 0.9448\n",
      "Epoch 69/200\n",
      "32000/32000 [==============================] - 0s 7us/step - loss: 0.1134 - accuracy: 0.9509\n",
      "Epoch 70/200\n",
      "32000/32000 [==============================] - 0s 6us/step - loss: 0.1310 - accuracy: 0.9449\n",
      "Epoch 71/200\n",
      "32000/32000 [==============================] - 0s 7us/step - loss: 0.1265 - accuracy: 0.9476\n",
      "Epoch 72/200\n",
      "32000/32000 [==============================] - 0s 7us/step - loss: 0.1428 - accuracy: 0.9423\n",
      "Epoch 73/200\n",
      "32000/32000 [==============================] - 0s 6us/step - loss: 0.1023 - accuracy: 0.9565\n",
      "Epoch 74/200\n",
      "32000/32000 [==============================] - 0s 6us/step - loss: 0.1520 - accuracy: 0.9391\n",
      "Epoch 75/200\n",
      "32000/32000 [==============================] - 0s 6us/step - loss: 0.1210 - accuracy: 0.9499\n",
      "Epoch 76/200\n",
      "32000/32000 [==============================] - 0s 6us/step - loss: 0.1201 - accuracy: 0.9492\n",
      "Epoch 77/200\n",
      "32000/32000 [==============================] - 0s 6us/step - loss: 0.1298 - accuracy: 0.9461\n",
      "Epoch 78/200\n"
     ]
    },
    {
     "name": "stdout",
     "output_type": "stream",
     "text": [
      "32000/32000 [==============================] - 0s 6us/step - loss: 0.1069 - accuracy: 0.9549\n",
      "Epoch 79/200\n",
      "32000/32000 [==============================] - 0s 6us/step - loss: 0.1223 - accuracy: 0.9478\n",
      "Epoch 80/200\n",
      "32000/32000 [==============================] - 0s 6us/step - loss: 0.1352 - accuracy: 0.9447\n",
      "Epoch 81/200\n",
      "32000/32000 [==============================] - 0s 6us/step - loss: 0.1079 - accuracy: 0.9542\n",
      "Epoch 82/200\n",
      "32000/32000 [==============================] - 0s 7us/step - loss: 0.1487 - accuracy: 0.9427\n",
      "Epoch 83/200\n",
      "32000/32000 [==============================] - 0s 6us/step - loss: 0.1156 - accuracy: 0.9499\n",
      "Epoch 84/200\n",
      "32000/32000 [==============================] - 0s 6us/step - loss: 0.1392 - accuracy: 0.9425\n",
      "Epoch 85/200\n",
      "32000/32000 [==============================] - 0s 7us/step - loss: 0.1110 - accuracy: 0.9533\n",
      "Epoch 86/200\n",
      "32000/32000 [==============================] - 0s 6us/step - loss: 0.1204 - accuracy: 0.9503\n",
      "Epoch 87/200\n",
      "32000/32000 [==============================] - 0s 6us/step - loss: 0.1160 - accuracy: 0.9518\n",
      "Epoch 88/200\n",
      "32000/32000 [==============================] - 0s 6us/step - loss: 0.1147 - accuracy: 0.9538\n",
      "Epoch 89/200\n",
      "32000/32000 [==============================] - ETA: 0s - loss: 0.1133 - accuracy: 0.95 - 0s 6us/step - loss: 0.1118 - accuracy: 0.9524\n",
      "Epoch 90/200\n",
      "32000/32000 [==============================] - 0s 6us/step - loss: 0.1374 - accuracy: 0.9444\n",
      "Epoch 91/200\n",
      "32000/32000 [==============================] - 0s 6us/step - loss: 0.1325 - accuracy: 0.9457\n",
      "Epoch 92/200\n",
      "32000/32000 [==============================] - 0s 6us/step - loss: 0.1235 - accuracy: 0.9486\n",
      "Epoch 93/200\n",
      "32000/32000 [==============================] - 0s 6us/step - loss: 0.1391 - accuracy: 0.9435\n",
      "Epoch 94/200\n",
      "32000/32000 [==============================] - 0s 6us/step - loss: 0.1202 - accuracy: 0.9501\n",
      "Epoch 95/200\n",
      "32000/32000 [==============================] - 0s 6us/step - loss: 0.1239 - accuracy: 0.9488\n",
      "Epoch 96/200\n",
      "32000/32000 [==============================] - 0s 6us/step - loss: 0.1155 - accuracy: 0.9517\n",
      "Epoch 97/200\n",
      "32000/32000 [==============================] - 0s 6us/step - loss: 0.1244 - accuracy: 0.9475\n",
      "Epoch 98/200\n",
      "32000/32000 [==============================] - 0s 6us/step - loss: 0.1260 - accuracy: 0.9473\n",
      "Epoch 99/200\n",
      "32000/32000 [==============================] - 0s 6us/step - loss: 0.1075 - accuracy: 0.9532\n",
      "Epoch 100/200\n",
      "32000/32000 [==============================] - 0s 6us/step - loss: 0.1178 - accuracy: 0.9511\n",
      "Epoch 101/200\n",
      "32000/32000 [==============================] - 0s 6us/step - loss: 0.1154 - accuracy: 0.9511\n",
      "Epoch 102/200\n",
      "32000/32000 [==============================] - 0s 6us/step - loss: 0.1245 - accuracy: 0.9492\n",
      "Epoch 103/200\n",
      "32000/32000 [==============================] - 0s 6us/step - loss: 0.1125 - accuracy: 0.9524\n",
      "Epoch 104/200\n",
      "32000/32000 [==============================] - 0s 6us/step - loss: 0.1300 - accuracy: 0.9470\n",
      "Epoch 105/200\n",
      "32000/32000 [==============================] - 0s 6us/step - loss: 0.1067 - accuracy: 0.9564\n",
      "Epoch 106/200\n",
      "32000/32000 [==============================] - 0s 6us/step - loss: 0.1239 - accuracy: 0.9486\n",
      "Epoch 107/200\n",
      "32000/32000 [==============================] - 0s 6us/step - loss: 0.1310 - accuracy: 0.9497\n",
      "Epoch 108/200\n",
      "32000/32000 [==============================] - 0s 6us/step - loss: 0.1136 - accuracy: 0.9522\n",
      "Epoch 109/200\n",
      "32000/32000 [==============================] - 0s 6us/step - loss: 0.1066 - accuracy: 0.9550\n",
      "Epoch 110/200\n",
      "32000/32000 [==============================] - 0s 6us/step - loss: 0.1426 - accuracy: 0.9421\n",
      "Epoch 111/200\n",
      "32000/32000 [==============================] - 0s 6us/step - loss: 0.1177 - accuracy: 0.9501\n",
      "Epoch 112/200\n",
      "32000/32000 [==============================] - 0s 6us/step - loss: 0.1123 - accuracy: 0.9525\n",
      "Epoch 113/200\n",
      "32000/32000 [==============================] - 0s 6us/step - loss: 0.1027 - accuracy: 0.9566\n",
      "Epoch 114/200\n",
      "32000/32000 [==============================] - 0s 6us/step - loss: 0.1032 - accuracy: 0.9569\n",
      "Epoch 115/200\n",
      "32000/32000 [==============================] - 0s 6us/step - loss: 0.1262 - accuracy: 0.9478\n",
      "Epoch 116/200\n",
      "32000/32000 [==============================] - 0s 7us/step - loss: 0.1405 - accuracy: 0.9421\n",
      "Epoch 117/200\n",
      "32000/32000 [==============================] - 0s 7us/step - loss: 0.1184 - accuracy: 0.9500\n",
      "Epoch 118/200\n",
      "32000/32000 [==============================] - 0s 6us/step - loss: 0.1367 - accuracy: 0.9441\n",
      "Epoch 119/200\n",
      "32000/32000 [==============================] - 0s 6us/step - loss: 0.1116 - accuracy: 0.9536\n",
      "Epoch 120/200\n",
      "32000/32000 [==============================] - 0s 6us/step - loss: 0.1349 - accuracy: 0.9449\n",
      "Epoch 121/200\n",
      "32000/32000 [==============================] - 0s 7us/step - loss: 0.1121 - accuracy: 0.9528\n",
      "Epoch 122/200\n",
      "32000/32000 [==============================] - 0s 7us/step - loss: 0.1185 - accuracy: 0.9506\n",
      "Epoch 123/200\n",
      "32000/32000 [==============================] - 0s 6us/step - loss: 0.0967 - accuracy: 0.9598\n",
      "Epoch 124/200\n",
      "32000/32000 [==============================] - 0s 6us/step - loss: 0.1265 - accuracy: 0.9497\n",
      "Epoch 125/200\n",
      "32000/32000 [==============================] - 0s 6us/step - loss: 0.1028 - accuracy: 0.9558\n",
      "Epoch 126/200\n",
      "32000/32000 [==============================] - 0s 6us/step - loss: 0.1411 - accuracy: 0.9436\n",
      "Epoch 127/200\n",
      "32000/32000 [==============================] - 0s 6us/step - loss: 0.1246 - accuracy: 0.9500\n",
      "Epoch 128/200\n",
      "32000/32000 [==============================] - 0s 6us/step - loss: 0.1020 - accuracy: 0.9561\n",
      "Epoch 129/200\n",
      "32000/32000 [==============================] - 0s 6us/step - loss: 0.1285 - accuracy: 0.9475\n",
      "Epoch 130/200\n",
      "32000/32000 [==============================] - 0s 6us/step - loss: 0.1078 - accuracy: 0.9538\n",
      "Epoch 131/200\n",
      "32000/32000 [==============================] - 0s 6us/step - loss: 0.1215 - accuracy: 0.9474\n",
      "Epoch 132/200\n",
      "32000/32000 [==============================] - 0s 6us/step - loss: 0.1119 - accuracy: 0.9520\n",
      "Epoch 133/200\n",
      "32000/32000 [==============================] - 0s 6us/step - loss: 0.1178 - accuracy: 0.9513\n",
      "Epoch 134/200\n",
      "32000/32000 [==============================] - 0s 7us/step - loss: 0.1138 - accuracy: 0.9524\n",
      "Epoch 135/200\n",
      "32000/32000 [==============================] - 0s 6us/step - loss: 0.1266 - accuracy: 0.9495\n",
      "Epoch 136/200\n",
      "32000/32000 [==============================] - 0s 7us/step - loss: 0.1049 - accuracy: 0.9553\n",
      "Epoch 137/200\n",
      "32000/32000 [==============================] - 0s 8us/step - loss: 0.1275 - accuracy: 0.9472\n",
      "Epoch 138/200\n",
      "32000/32000 [==============================] - 0s 7us/step - loss: 0.1099 - accuracy: 0.9536\n",
      "Epoch 139/200\n",
      "32000/32000 [==============================] - 0s 7us/step - loss: 0.1193 - accuracy: 0.9496\n",
      "Epoch 140/200\n",
      "32000/32000 [==============================] - 0s 7us/step - loss: 0.1036 - accuracy: 0.9560\n",
      "Epoch 141/200\n",
      "32000/32000 [==============================] - 0s 7us/step - loss: 0.1117 - accuracy: 0.9523\n",
      "Epoch 142/200\n",
      "32000/32000 [==============================] - 0s 8us/step - loss: 0.1228 - accuracy: 0.9502\n",
      "Epoch 143/200\n",
      "32000/32000 [==============================] - 0s 7us/step - loss: 0.1184 - accuracy: 0.9509\n",
      "Epoch 144/200\n",
      "32000/32000 [==============================] - 0s 7us/step - loss: 0.1104 - accuracy: 0.9538\n",
      "Epoch 145/200\n",
      "32000/32000 [==============================] - 0s 8us/step - loss: 0.1033 - accuracy: 0.9558\n",
      "Epoch 146/200\n",
      "32000/32000 [==============================] - 0s 7us/step - loss: 0.1209 - accuracy: 0.9489\n",
      "Epoch 147/200\n",
      "32000/32000 [==============================] - 0s 6us/step - loss: 0.1497 - accuracy: 0.9414\n",
      "Epoch 148/200\n",
      "32000/32000 [==============================] - 0s 9us/step - loss: 0.1287 - accuracy: 0.9492\n",
      "Epoch 149/200\n",
      "32000/32000 [==============================] - 0s 7us/step - loss: 0.1026 - accuracy: 0.9567\n",
      "Epoch 150/200\n",
      "32000/32000 [==============================] - 0s 7us/step - loss: 0.1176 - accuracy: 0.9505\n",
      "Epoch 151/200\n",
      "32000/32000 [==============================] - 0s 7us/step - loss: 0.0956 - accuracy: 0.9602\n",
      "Epoch 152/200\n",
      "32000/32000 [==============================] - 0s 7us/step - loss: 0.1209 - accuracy: 0.9507\n",
      "Epoch 153/200\n",
      "32000/32000 [==============================] - 0s 8us/step - loss: 0.1330 - accuracy: 0.9461\n",
      "Epoch 154/200\n"
     ]
    },
    {
     "name": "stdout",
     "output_type": "stream",
     "text": [
      "32000/32000 [==============================] - 0s 8us/step - loss: 0.1028 - accuracy: 0.9558\n",
      "Epoch 155/200\n",
      "32000/32000 [==============================] - 0s 8us/step - loss: 0.1181 - accuracy: 0.9519\n",
      "Epoch 156/200\n",
      "32000/32000 [==============================] - 0s 7us/step - loss: 0.1171 - accuracy: 0.9511\n",
      "Epoch 157/200\n",
      "32000/32000 [==============================] - 0s 7us/step - loss: 0.1382 - accuracy: 0.9473\n",
      "Epoch 158/200\n",
      "32000/32000 [==============================] - 0s 7us/step - loss: 0.1155 - accuracy: 0.9514\n",
      "Epoch 159/200\n",
      "32000/32000 [==============================] - 0s 7us/step - loss: 0.1189 - accuracy: 0.9498\n",
      "Epoch 160/200\n",
      "32000/32000 [==============================] - 0s 7us/step - loss: 0.1114 - accuracy: 0.9532\n",
      "Epoch 161/200\n",
      "32000/32000 [==============================] - 0s 7us/step - loss: 0.1007 - accuracy: 0.9577\n",
      "Epoch 162/200\n",
      "32000/32000 [==============================] - 0s 6us/step - loss: 0.1224 - accuracy: 0.9498\n",
      "Epoch 163/200\n",
      "32000/32000 [==============================] - 0s 7us/step - loss: 0.1178 - accuracy: 0.9515\n",
      "Epoch 164/200\n",
      "32000/32000 [==============================] - 0s 6us/step - loss: 0.1225 - accuracy: 0.9485\n",
      "Epoch 165/200\n",
      "32000/32000 [==============================] - 0s 6us/step - loss: 0.1109 - accuracy: 0.9525\n",
      "Epoch 166/200\n",
      "32000/32000 [==============================] - 0s 6us/step - loss: 0.1083 - accuracy: 0.9543\n",
      "Epoch 167/200\n",
      "32000/32000 [==============================] - 0s 6us/step - loss: 0.1165 - accuracy: 0.9517\n",
      "Epoch 168/200\n",
      "32000/32000 [==============================] - 0s 6us/step - loss: 0.0966 - accuracy: 0.9603\n",
      "Epoch 169/200\n",
      "32000/32000 [==============================] - 0s 6us/step - loss: 0.0933 - accuracy: 0.9603\n",
      "Epoch 170/200\n",
      "32000/32000 [==============================] - 0s 6us/step - loss: 0.1238 - accuracy: 0.9495\n",
      "Epoch 171/200\n",
      "32000/32000 [==============================] - 0s 6us/step - loss: 0.1251 - accuracy: 0.9499\n",
      "Epoch 172/200\n",
      "32000/32000 [==============================] - 0s 6us/step - loss: 0.0962 - accuracy: 0.9594\n",
      "Epoch 173/200\n",
      "32000/32000 [==============================] - 0s 7us/step - loss: 0.0913 - accuracy: 0.9606\n",
      "Epoch 174/200\n",
      "32000/32000 [==============================] - 0s 7us/step - loss: 0.1072 - accuracy: 0.9539\n",
      "Epoch 175/200\n",
      "32000/32000 [==============================] - 0s 7us/step - loss: 0.1131 - accuracy: 0.9529\n",
      "Epoch 176/200\n",
      "32000/32000 [==============================] - 0s 6us/step - loss: 0.1128 - accuracy: 0.9518\n",
      "Epoch 177/200\n",
      "32000/32000 [==============================] - 0s 6us/step - loss: 0.1366 - accuracy: 0.9457\n",
      "Epoch 178/200\n",
      "32000/32000 [==============================] - 0s 6us/step - loss: 0.1069 - accuracy: 0.9543\n",
      "Epoch 179/200\n",
      "32000/32000 [==============================] - 0s 7us/step - loss: 0.1416 - accuracy: 0.9414\n",
      "Epoch 180/200\n",
      "32000/32000 [==============================] - 0s 7us/step - loss: 0.0978 - accuracy: 0.9589\n",
      "Epoch 181/200\n",
      "32000/32000 [==============================] - 0s 7us/step - loss: 0.1008 - accuracy: 0.9567\n",
      "Epoch 182/200\n",
      "32000/32000 [==============================] - 0s 7us/step - loss: 0.0945 - accuracy: 0.9587\n",
      "Epoch 183/200\n",
      "32000/32000 [==============================] - 0s 7us/step - loss: 0.1206 - accuracy: 0.9519\n",
      "Epoch 184/200\n",
      "32000/32000 [==============================] - 0s 6us/step - loss: 0.1097 - accuracy: 0.9540\n",
      "Epoch 185/200\n",
      "32000/32000 [==============================] - 0s 6us/step - loss: 0.1333 - accuracy: 0.9461\n",
      "Epoch 186/200\n",
      "32000/32000 [==============================] - 0s 7us/step - loss: 0.1190 - accuracy: 0.9520\n",
      "Epoch 187/200\n",
      "32000/32000 [==============================] - 0s 6us/step - loss: 0.1097 - accuracy: 0.9541\n",
      "Epoch 188/200\n",
      "32000/32000 [==============================] - 0s 6us/step - loss: 0.1016 - accuracy: 0.9579\n",
      "Epoch 189/200\n",
      "32000/32000 [==============================] - 0s 6us/step - loss: 0.1018 - accuracy: 0.9567\n",
      "Epoch 190/200\n",
      "32000/32000 [==============================] - 0s 6us/step - loss: 0.0947 - accuracy: 0.9597\n",
      "Epoch 191/200\n",
      "32000/32000 [==============================] - 0s 6us/step - loss: 0.1354 - accuracy: 0.9445\n",
      "Epoch 192/200\n",
      "32000/32000 [==============================] - 0s 6us/step - loss: 0.0976 - accuracy: 0.9598\n",
      "Epoch 193/200\n",
      "32000/32000 [==============================] - 0s 6us/step - loss: 0.0963 - accuracy: 0.9600\n",
      "Epoch 194/200\n",
      "32000/32000 [==============================] - 0s 6us/step - loss: 0.1204 - accuracy: 0.9499\n",
      "Epoch 195/200\n",
      "32000/32000 [==============================] - 0s 7us/step - loss: 0.1142 - accuracy: 0.9512\n",
      "Epoch 196/200\n",
      "32000/32000 [==============================] - 0s 6us/step - loss: 0.1091 - accuracy: 0.9535\n",
      "Epoch 197/200\n",
      "32000/32000 [==============================] - 0s 8us/step - loss: 0.1019 - accuracy: 0.9566\n",
      "Epoch 198/200\n",
      "32000/32000 [==============================] - 0s 8us/step - loss: 0.1018 - accuracy: 0.9572\n",
      "Epoch 199/200\n",
      "32000/32000 [==============================] - 0s 8us/step - loss: 0.1100 - accuracy: 0.9551\n",
      "Epoch 200/200\n",
      "32000/32000 [==============================] - 0s 8us/step - loss: 0.0966 - accuracy: 0.9598\n",
      "32000/32000 [==============================] - 1s 16us/step\n",
      "訓練資料集的準確度 = 0.94\n",
      "8000/8000 [==============================] - 0s 18us/step\n",
      "測試資料集的準確度 = 0.93\n",
      "8000/8000 [==============================] - 0s 4us/step\n"
     ]
    },
    {
     "data": {
      "text/plain": [
       "<matplotlib.collections.PathCollection at 0x7ffafa265f10>"
      ]
     },
     "execution_count": 42,
     "metadata": {},
     "output_type": "execute_result"
    },
    {
     "data": {
      "image/png": "[encoded data removed]",
      "text/plain": [
       "<Figure size 288x288 with 1 Axes>"
      ]
     },
     "metadata": {
      "needs_background": "light"
     },
     "output_type": "display_data"
    }
   ],
   "source": [
    "model.fit(x_train,Y_train, epochs=200, batch_size=200, verbose=1)\n",
    "loss, accuracy = model.evaluate(x_train, Y_train)\n",
    "print(\"訓練資料集的準確度 = {:.2f}\".format(accuracy))\n",
    "loss, accuracy = model.evaluate(x_test, Y_test)\n",
    "print(\"測試資料集的準確度 = {:.2f}\".format(accuracy))\n",
    "y_pred = model.predict_classes(x_test, batch_size=200, verbose=1)\n",
    "fig = plt.figure(figsize=(4,4))\n",
    "plt.scatter(x_test[:,0],x_test[:,1],c = y_pred,cmap=matplotlib.colors.ListedColormap(colors))\n",
    "#print(y_pred[0], y_pred[1]) "
   ]
  },
  {
   "cell_type": "code",
   "execution_count": null,
   "id": "exciting-pharmaceutical",
   "metadata": {},
   "outputs": [],
   "source": []
  },
  {
   "cell_type": "code",
   "execution_count": 52,
   "id": "permanent-radio",
   "metadata": {},
   "outputs": [
    {
     "data": {
      "text/plain": [
       "<matplotlib.collections.PathCollection at 0x7facc4d12ed0>"
      ]
     },
     "execution_count": 52,
     "metadata": {},
     "output_type": "execute_result"
    },
    {
     "data": {
      "image/png": "[encoded data removed]",
      "text/plain": [
       "<Figure size 288x288 with 1 Axes>"
      ]
     },
     "metadata": {
      "needs_background": "light"
     },
     "output_type": "display_data"
    }
   ],
   "source": [
    "fig = plt.figure(figsize=(4,4))\n",
    "plt.scatter(x_test[:,0],x_test[:,1],c = y_pred,cmap=matplotlib.colors.ListedColormap(colors))"
   ]
  },
  {
   "cell_type": "code",
   "execution_count": null,
   "id": "laden-personal",
   "metadata": {},
   "outputs": [],
   "source": []
  },
  {
   "cell_type": "code",
   "execution_count": null,
   "id": "eight-inclusion",
   "metadata": {},
   "outputs": [],
   "source": []
  },
  {
   "cell_type": "code",
   "execution_count": null,
   "id": "dangerous-dress",
   "metadata": {},
   "outputs": [],
   "source": []
  },
  {
   "cell_type": "code",
   "execution_count": null,
   "id": "married-cyprus",
   "metadata": {},
   "outputs": [],
   "source": []
  },
  {
   "cell_type": "code",
   "execution_count": null,
   "id": "improving-continuity",
   "metadata": {},
   "outputs": [],
   "source": []
  },
  {
   "cell_type": "code",
   "execution_count": 10,
   "id": "understanding-mumbai",
   "metadata": {
    "scrolled": true
   },
   "outputs": [
    {
     "name": "stdout",
     "output_type": "stream",
     "text": [
      "訓練集圖型：\n"
     ]
    },
    {
     "data": {
      "text/plain": [
       "<matplotlib.collections.PathCollection at 0x7ffb104c3a10>"
      ]
     },
     "execution_count": 10,
     "metadata": {},
     "output_type": "execute_result"
    },
    {
     "data": {
      "image/png": "[encoded data removed]",
      "text/plain": [
       "<Figure size 288x288 with 1 Axes>"
      ]
     },
     "metadata": {
      "needs_background": "light"
     },
     "output_type": "display_data"
    }
   ],
   "source": [
    "print(\"訓練集圖型：\")\n",
    "fig = plt.figure(figsize=(4,4))\n",
    "plt.scatter(x_train[:,0],x_train[:,1],c = y_train,cmap=matplotlib.colors.ListedColormap(colors))"
   ]
  },
  {
   "cell_type": "code",
   "execution_count": 11,
   "id": "grand-space",
   "metadata": {},
   "outputs": [
    {
     "name": "stdout",
     "output_type": "stream",
     "text": [
      "測試集圖型：\n"
     ]
    },
    {
     "data": {
      "text/plain": [
       "<matplotlib.collections.PathCollection at 0x7ffb122e0bd0>"
      ]
     },
     "execution_count": 11,
     "metadata": {},
     "output_type": "execute_result"
    },
    {
     "data": {
      "image/png": "[encoded data removed]",
      "text/plain": [
       "<Figure size 288x288 with 1 Axes>"
      ]
     },
     "metadata": {
      "needs_background": "light"
     },
     "output_type": "display_data"
    }
   ],
   "source": [
    "print(\"測試集圖型：\")\n",
    "fig = plt.figure(figsize=(4,4))\n",
    "plt.scatter(x_test[:,0],x_test[:,1],c = y_test,cmap=matplotlib.colors.ListedColormap(colors))"
   ]
  },
  {
   "cell_type": "code",
   "execution_count": null,
   "id": "utility-clerk",
   "metadata": {},
   "outputs": [],
   "source": [
    "pd.read_csv()"
   ]
  }
 ],
 "metadata": {
  "kernelspec": {
   "display_name": "Python 3",
   "language": "python",
   "name": "python3"
  },
  "language_info": {
   "codemirror_mode": {
    "name": "ipython",
    "version": 3
   },
   "file_extension": ".py",
   "mimetype": "text/x-python",
   "name": "python",
   "nbconvert_exporter": "python",
   "pygments_lexer": "ipython3",
   "version": "3.7.10"
  },
  "toc": {
   "base_numbering": 1,
   "nav_menu": {},
   "number_sections": true,
   "sideBar": true,
   "skip_h1_title": false,
   "title_cell": "Table of Contents",
   "title_sidebar": "Contents",
   "toc_cell": false,
   "toc_position": {},
   "toc_section_display": true,
   "toc_window_display": false
  },
  "varInspector": {
   "cols": {
    "lenName": 16,
    "lenType": 16,
    "lenVar": 40
   },
   "kernels_config": {
    "python": {
     "delete_cmd_postfix": "",
     "delete_cmd_prefix": "del ",
     "library": "var_list.py",
     "varRefreshCmd": "print(var_dic_list())"
    },
    "r": {
     "delete_cmd_postfix": ") ",
     "delete_cmd_prefix": "rm(",
     "library": "var_list.r",
     "varRefreshCmd": "cat(var_dic_list()) "
    }
   },
   "types_to_exclude": [
    "module",
    "function",
    "builtin_function_or_method",
    "instance",
    "_Feature"
   ],
   "window_display": false
  }
 },
 "nbformat": 4,
 "nbformat_minor": 5
}
